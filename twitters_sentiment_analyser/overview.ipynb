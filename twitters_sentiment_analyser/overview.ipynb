{
 "cells": [
  {
   "cell_type": "markdown",
   "metadata": {},
   "source": [
    "# HOW TO SCRAPE WEBSITES."
   ]
  },
  {
   "cell_type": "markdown",
   "metadata": {},
   "source": [
    "## What Is Web Scraping \n",
    "\n",
    "some important terms.\n",
    "- screnn scraping\n",
    "- web harvestin\n",
    "- web crawling\n",
    "- spiders"
   ]
  },
  {
   "cell_type": "markdown",
   "metadata": {},
   "source": [
    "## INSTALL PACKAGES\n",
    "\n",
    "!PIP INSTALL SCRAPPY"
   ]
  }
 ],
 "metadata": {
  "language_info": {
   "name": "python"
  }
 },
 "nbformat": 4,
 "nbformat_minor": 2
}
